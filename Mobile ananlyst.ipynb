{
 "cells": [
  {
   "cell_type": "code",
   "execution_count": 2,
   "id": "a236a8e2-43e7-4658-9f24-7829c19a9fcb",
   "metadata": {},
   "outputs": [
    {
     "name": "stdout",
     "output_type": "stream",
     "text": [
      "Requirement already satisfied: langchain in c:\\users\\kiit\\anaconda3\\lib\\site-packages (0.3.24)\n",
      "Requirement already satisfied: langchain-core<1.0.0,>=0.3.55 in c:\\users\\kiit\\anaconda3\\lib\\site-packages (from langchain) (0.3.56)\n",
      "Requirement already satisfied: langchain-text-splitters<1.0.0,>=0.3.8 in c:\\users\\kiit\\anaconda3\\lib\\site-packages (from langchain) (0.3.8)\n",
      "Requirement already satisfied: langsmith<0.4,>=0.1.17 in c:\\users\\kiit\\anaconda3\\lib\\site-packages (from langchain) (0.3.38)\n",
      "Requirement already satisfied: pydantic<3.0.0,>=2.7.4 in c:\\users\\kiit\\anaconda3\\lib\\site-packages (from langchain) (2.8.2)\n",
      "Requirement already satisfied: SQLAlchemy<3,>=1.4 in c:\\users\\kiit\\anaconda3\\lib\\site-packages (from langchain) (2.0.34)\n",
      "Requirement already satisfied: requests<3,>=2 in c:\\users\\kiit\\anaconda3\\lib\\site-packages (from langchain) (2.32.3)\n",
      "Requirement already satisfied: PyYAML>=5.3 in c:\\users\\kiit\\anaconda3\\lib\\site-packages (from langchain) (6.0.1)\n",
      "Requirement already satisfied: tenacity!=8.4.0,<10.0.0,>=8.1.0 in c:\\users\\kiit\\anaconda3\\lib\\site-packages (from langchain-core<1.0.0,>=0.3.55->langchain) (8.2.3)\n",
      "Requirement already satisfied: jsonpatch<2.0,>=1.33 in c:\\users\\kiit\\anaconda3\\lib\\site-packages (from langchain-core<1.0.0,>=0.3.55->langchain) (1.33)\n",
      "Requirement already satisfied: packaging<25,>=23.2 in c:\\users\\kiit\\anaconda3\\lib\\site-packages (from langchain-core<1.0.0,>=0.3.55->langchain) (24.1)\n",
      "Requirement already satisfied: typing-extensions>=4.7 in c:\\users\\kiit\\anaconda3\\lib\\site-packages (from langchain-core<1.0.0,>=0.3.55->langchain) (4.11.0)\n",
      "Requirement already satisfied: httpx<1,>=0.23.0 in c:\\users\\kiit\\anaconda3\\lib\\site-packages (from langsmith<0.4,>=0.1.17->langchain) (0.27.0)\n",
      "Requirement already satisfied: orjson<4.0.0,>=3.9.14 in c:\\users\\kiit\\anaconda3\\lib\\site-packages (from langsmith<0.4,>=0.1.17->langchain) (3.10.16)\n",
      "Requirement already satisfied: requests-toolbelt<2.0.0,>=1.0.0 in c:\\users\\kiit\\anaconda3\\lib\\site-packages (from langsmith<0.4,>=0.1.17->langchain) (1.0.0)\n",
      "Requirement already satisfied: zstandard<0.24.0,>=0.23.0 in c:\\users\\kiit\\anaconda3\\lib\\site-packages (from langsmith<0.4,>=0.1.17->langchain) (0.23.0)\n",
      "Requirement already satisfied: annotated-types>=0.4.0 in c:\\users\\kiit\\anaconda3\\lib\\site-packages (from pydantic<3.0.0,>=2.7.4->langchain) (0.6.0)\n",
      "Requirement already satisfied: pydantic-core==2.20.1 in c:\\users\\kiit\\anaconda3\\lib\\site-packages (from pydantic<3.0.0,>=2.7.4->langchain) (2.20.1)\n",
      "Requirement already satisfied: charset-normalizer<4,>=2 in c:\\users\\kiit\\anaconda3\\lib\\site-packages (from requests<3,>=2->langchain) (3.3.2)\n",
      "Requirement already satisfied: idna<4,>=2.5 in c:\\users\\kiit\\anaconda3\\lib\\site-packages (from requests<3,>=2->langchain) (3.7)\n",
      "Requirement already satisfied: urllib3<3,>=1.21.1 in c:\\users\\kiit\\anaconda3\\lib\\site-packages (from requests<3,>=2->langchain) (2.2.3)\n",
      "Requirement already satisfied: certifi>=2017.4.17 in c:\\users\\kiit\\anaconda3\\lib\\site-packages (from requests<3,>=2->langchain) (2025.1.31)\n",
      "Requirement already satisfied: greenlet!=0.4.17 in c:\\users\\kiit\\anaconda3\\lib\\site-packages (from SQLAlchemy<3,>=1.4->langchain) (3.0.1)\n",
      "Requirement already satisfied: anyio in c:\\users\\kiit\\anaconda3\\lib\\site-packages (from httpx<1,>=0.23.0->langsmith<0.4,>=0.1.17->langchain) (4.2.0)\n",
      "Requirement already satisfied: httpcore==1.* in c:\\users\\kiit\\anaconda3\\lib\\site-packages (from httpx<1,>=0.23.0->langsmith<0.4,>=0.1.17->langchain) (1.0.2)\n",
      "Requirement already satisfied: sniffio in c:\\users\\kiit\\anaconda3\\lib\\site-packages (from httpx<1,>=0.23.0->langsmith<0.4,>=0.1.17->langchain) (1.3.0)\n",
      "Requirement already satisfied: h11<0.15,>=0.13 in c:\\users\\kiit\\anaconda3\\lib\\site-packages (from httpcore==1.*->httpx<1,>=0.23.0->langsmith<0.4,>=0.1.17->langchain) (0.14.0)\n",
      "Requirement already satisfied: jsonpointer>=1.9 in c:\\users\\kiit\\anaconda3\\lib\\site-packages (from jsonpatch<2.0,>=1.33->langchain-core<1.0.0,>=0.3.55->langchain) (2.1)\n"
     ]
    }
   ],
   "source": [
    "!pip install langchain"
   ]
  },
  {
   "cell_type": "code",
   "execution_count": 4,
   "id": "fcad000d-bb31-4743-9c5b-fd5846badbe5",
   "metadata": {},
   "outputs": [
    {
     "name": "stdout",
     "output_type": "stream",
     "text": [
      "Requirement already satisfied: langchain-openai in c:\\users\\kiit\\anaconda3\\lib\\site-packages (0.3.14)\n",
      "Requirement already satisfied: langchain-core<1.0.0,>=0.3.53 in c:\\users\\kiit\\anaconda3\\lib\\site-packages (from langchain-openai) (0.3.56)\n",
      "Requirement already satisfied: openai<2.0.0,>=1.68.2 in c:\\users\\kiit\\anaconda3\\lib\\site-packages (from langchain-openai) (1.75.0)\n",
      "Requirement already satisfied: tiktoken<1,>=0.7 in c:\\users\\kiit\\anaconda3\\lib\\site-packages (from langchain-openai) (0.9.0)\n",
      "Requirement already satisfied: langsmith<0.4,>=0.1.125 in c:\\users\\kiit\\anaconda3\\lib\\site-packages (from langchain-core<1.0.0,>=0.3.53->langchain-openai) (0.3.38)\n",
      "Requirement already satisfied: tenacity!=8.4.0,<10.0.0,>=8.1.0 in c:\\users\\kiit\\anaconda3\\lib\\site-packages (from langchain-core<1.0.0,>=0.3.53->langchain-openai) (8.2.3)\n",
      "Requirement already satisfied: jsonpatch<2.0,>=1.33 in c:\\users\\kiit\\anaconda3\\lib\\site-packages (from langchain-core<1.0.0,>=0.3.53->langchain-openai) (1.33)\n",
      "Requirement already satisfied: PyYAML>=5.3 in c:\\users\\kiit\\anaconda3\\lib\\site-packages (from langchain-core<1.0.0,>=0.3.53->langchain-openai) (6.0.1)\n",
      "Requirement already satisfied: packaging<25,>=23.2 in c:\\users\\kiit\\anaconda3\\lib\\site-packages (from langchain-core<1.0.0,>=0.3.53->langchain-openai) (24.1)\n",
      "Requirement already satisfied: typing-extensions>=4.7 in c:\\users\\kiit\\anaconda3\\lib\\site-packages (from langchain-core<1.0.0,>=0.3.53->langchain-openai) (4.11.0)\n",
      "Requirement already satisfied: pydantic<3.0.0,>=2.7.4 in c:\\users\\kiit\\anaconda3\\lib\\site-packages (from langchain-core<1.0.0,>=0.3.53->langchain-openai) (2.8.2)\n",
      "Requirement already satisfied: anyio<5,>=3.5.0 in c:\\users\\kiit\\anaconda3\\lib\\site-packages (from openai<2.0.0,>=1.68.2->langchain-openai) (4.2.0)\n",
      "Requirement already satisfied: distro<2,>=1.7.0 in c:\\users\\kiit\\anaconda3\\lib\\site-packages (from openai<2.0.0,>=1.68.2->langchain-openai) (1.9.0)\n",
      "Requirement already satisfied: httpx<1,>=0.23.0 in c:\\users\\kiit\\anaconda3\\lib\\site-packages (from openai<2.0.0,>=1.68.2->langchain-openai) (0.27.0)\n",
      "Requirement already satisfied: jiter<1,>=0.4.0 in c:\\users\\kiit\\anaconda3\\lib\\site-packages (from openai<2.0.0,>=1.68.2->langchain-openai) (0.9.0)\n",
      "Requirement already satisfied: sniffio in c:\\users\\kiit\\anaconda3\\lib\\site-packages (from openai<2.0.0,>=1.68.2->langchain-openai) (1.3.0)\n",
      "Requirement already satisfied: tqdm>4 in c:\\users\\kiit\\anaconda3\\lib\\site-packages (from openai<2.0.0,>=1.68.2->langchain-openai) (4.66.5)\n",
      "Requirement already satisfied: regex>=2022.1.18 in c:\\users\\kiit\\anaconda3\\lib\\site-packages (from tiktoken<1,>=0.7->langchain-openai) (2024.9.11)\n",
      "Requirement already satisfied: requests>=2.26.0 in c:\\users\\kiit\\anaconda3\\lib\\site-packages (from tiktoken<1,>=0.7->langchain-openai) (2.32.3)\n",
      "Requirement already satisfied: idna>=2.8 in c:\\users\\kiit\\anaconda3\\lib\\site-packages (from anyio<5,>=3.5.0->openai<2.0.0,>=1.68.2->langchain-openai) (3.7)\n",
      "Requirement already satisfied: certifi in c:\\users\\kiit\\anaconda3\\lib\\site-packages (from httpx<1,>=0.23.0->openai<2.0.0,>=1.68.2->langchain-openai) (2025.1.31)\n",
      "Requirement already satisfied: httpcore==1.* in c:\\users\\kiit\\anaconda3\\lib\\site-packages (from httpx<1,>=0.23.0->openai<2.0.0,>=1.68.2->langchain-openai) (1.0.2)\n",
      "Requirement already satisfied: h11<0.15,>=0.13 in c:\\users\\kiit\\anaconda3\\lib\\site-packages (from httpcore==1.*->httpx<1,>=0.23.0->openai<2.0.0,>=1.68.2->langchain-openai) (0.14.0)\n",
      "Requirement already satisfied: jsonpointer>=1.9 in c:\\users\\kiit\\anaconda3\\lib\\site-packages (from jsonpatch<2.0,>=1.33->langchain-core<1.0.0,>=0.3.53->langchain-openai) (2.1)\n",
      "Requirement already satisfied: orjson<4.0.0,>=3.9.14 in c:\\users\\kiit\\anaconda3\\lib\\site-packages (from langsmith<0.4,>=0.1.125->langchain-core<1.0.0,>=0.3.53->langchain-openai) (3.10.16)\n",
      "Requirement already satisfied: requests-toolbelt<2.0.0,>=1.0.0 in c:\\users\\kiit\\anaconda3\\lib\\site-packages (from langsmith<0.4,>=0.1.125->langchain-core<1.0.0,>=0.3.53->langchain-openai) (1.0.0)\n",
      "Requirement already satisfied: zstandard<0.24.0,>=0.23.0 in c:\\users\\kiit\\anaconda3\\lib\\site-packages (from langsmith<0.4,>=0.1.125->langchain-core<1.0.0,>=0.3.53->langchain-openai) (0.23.0)\n",
      "Requirement already satisfied: annotated-types>=0.4.0 in c:\\users\\kiit\\anaconda3\\lib\\site-packages (from pydantic<3.0.0,>=2.7.4->langchain-core<1.0.0,>=0.3.53->langchain-openai) (0.6.0)\n",
      "Requirement already satisfied: pydantic-core==2.20.1 in c:\\users\\kiit\\anaconda3\\lib\\site-packages (from pydantic<3.0.0,>=2.7.4->langchain-core<1.0.0,>=0.3.53->langchain-openai) (2.20.1)\n",
      "Requirement already satisfied: charset-normalizer<4,>=2 in c:\\users\\kiit\\anaconda3\\lib\\site-packages (from requests>=2.26.0->tiktoken<1,>=0.7->langchain-openai) (3.3.2)\n",
      "Requirement already satisfied: urllib3<3,>=1.21.1 in c:\\users\\kiit\\anaconda3\\lib\\site-packages (from requests>=2.26.0->tiktoken<1,>=0.7->langchain-openai) (2.2.3)\n",
      "Requirement already satisfied: colorama in c:\\users\\kiit\\anaconda3\\lib\\site-packages (from tqdm>4->openai<2.0.0,>=1.68.2->langchain-openai) (0.4.6)\n"
     ]
    }
   ],
   "source": [
    "!pip install langchain-openai"
   ]
  },
  {
   "cell_type": "code",
   "execution_count": 6,
   "id": "d146fea8-0b0c-4c80-87ae-7ec64c4afefc",
   "metadata": {},
   "outputs": [
    {
     "name": "stdout",
     "output_type": "stream",
     "text": [
      "Requirement already satisfied: langchain-community in c:\\users\\kiit\\anaconda3\\lib\\site-packages (0.3.23)\n",
      "Requirement already satisfied: langchain-core<1.0.0,>=0.3.56 in c:\\users\\kiit\\anaconda3\\lib\\site-packages (from langchain-community) (0.3.56)\n",
      "Requirement already satisfied: langchain<1.0.0,>=0.3.24 in c:\\users\\kiit\\anaconda3\\lib\\site-packages (from langchain-community) (0.3.24)\n",
      "Requirement already satisfied: SQLAlchemy<3,>=1.4 in c:\\users\\kiit\\anaconda3\\lib\\site-packages (from langchain-community) (2.0.34)\n",
      "Requirement already satisfied: requests<3,>=2 in c:\\users\\kiit\\anaconda3\\lib\\site-packages (from langchain-community) (2.32.3)\n",
      "Requirement already satisfied: PyYAML>=5.3 in c:\\users\\kiit\\anaconda3\\lib\\site-packages (from langchain-community) (6.0.1)\n",
      "Requirement already satisfied: aiohttp<4.0.0,>=3.8.3 in c:\\users\\kiit\\anaconda3\\lib\\site-packages (from langchain-community) (3.10.5)\n",
      "Requirement already satisfied: tenacity!=8.4.0,<10,>=8.1.0 in c:\\users\\kiit\\anaconda3\\lib\\site-packages (from langchain-community) (8.2.3)\n",
      "Requirement already satisfied: dataclasses-json<0.7,>=0.5.7 in c:\\users\\kiit\\anaconda3\\lib\\site-packages (from langchain-community) (0.6.7)\n",
      "Requirement already satisfied: pydantic-settings<3.0.0,>=2.4.0 in c:\\users\\kiit\\anaconda3\\lib\\site-packages (from langchain-community) (2.6.1)\n",
      "Requirement already satisfied: langsmith<0.4,>=0.1.125 in c:\\users\\kiit\\anaconda3\\lib\\site-packages (from langchain-community) (0.3.38)\n",
      "Requirement already satisfied: httpx-sse<1.0.0,>=0.4.0 in c:\\users\\kiit\\anaconda3\\lib\\site-packages (from langchain-community) (0.4.0)\n",
      "Requirement already satisfied: numpy>=1.26.2 in c:\\users\\kiit\\anaconda3\\lib\\site-packages (from langchain-community) (1.26.4)\n",
      "Requirement already satisfied: aiohappyeyeballs>=2.3.0 in c:\\users\\kiit\\anaconda3\\lib\\site-packages (from aiohttp<4.0.0,>=3.8.3->langchain-community) (2.4.0)\n",
      "Requirement already satisfied: aiosignal>=1.1.2 in c:\\users\\kiit\\anaconda3\\lib\\site-packages (from aiohttp<4.0.0,>=3.8.3->langchain-community) (1.2.0)\n",
      "Requirement already satisfied: attrs>=17.3.0 in c:\\users\\kiit\\anaconda3\\lib\\site-packages (from aiohttp<4.0.0,>=3.8.3->langchain-community) (23.1.0)\n",
      "Requirement already satisfied: frozenlist>=1.1.1 in c:\\users\\kiit\\anaconda3\\lib\\site-packages (from aiohttp<4.0.0,>=3.8.3->langchain-community) (1.4.0)\n",
      "Requirement already satisfied: multidict<7.0,>=4.5 in c:\\users\\kiit\\anaconda3\\lib\\site-packages (from aiohttp<4.0.0,>=3.8.3->langchain-community) (6.0.4)\n",
      "Requirement already satisfied: yarl<2.0,>=1.0 in c:\\users\\kiit\\anaconda3\\lib\\site-packages (from aiohttp<4.0.0,>=3.8.3->langchain-community) (1.11.0)\n",
      "Requirement already satisfied: marshmallow<4.0.0,>=3.18.0 in c:\\users\\kiit\\anaconda3\\lib\\site-packages (from dataclasses-json<0.7,>=0.5.7->langchain-community) (3.26.1)\n",
      "Requirement already satisfied: typing-inspect<1,>=0.4.0 in c:\\users\\kiit\\anaconda3\\lib\\site-packages (from dataclasses-json<0.7,>=0.5.7->langchain-community) (0.9.0)\n",
      "Requirement already satisfied: langchain-text-splitters<1.0.0,>=0.3.8 in c:\\users\\kiit\\anaconda3\\lib\\site-packages (from langchain<1.0.0,>=0.3.24->langchain-community) (0.3.8)\n",
      "Requirement already satisfied: pydantic<3.0.0,>=2.7.4 in c:\\users\\kiit\\anaconda3\\lib\\site-packages (from langchain<1.0.0,>=0.3.24->langchain-community) (2.8.2)\n",
      "Requirement already satisfied: jsonpatch<2.0,>=1.33 in c:\\users\\kiit\\anaconda3\\lib\\site-packages (from langchain-core<1.0.0,>=0.3.56->langchain-community) (1.33)\n",
      "Requirement already satisfied: packaging<25,>=23.2 in c:\\users\\kiit\\anaconda3\\lib\\site-packages (from langchain-core<1.0.0,>=0.3.56->langchain-community) (24.1)\n",
      "Requirement already satisfied: typing-extensions>=4.7 in c:\\users\\kiit\\anaconda3\\lib\\site-packages (from langchain-core<1.0.0,>=0.3.56->langchain-community) (4.11.0)\n",
      "Requirement already satisfied: httpx<1,>=0.23.0 in c:\\users\\kiit\\anaconda3\\lib\\site-packages (from langsmith<0.4,>=0.1.125->langchain-community) (0.27.0)\n",
      "Requirement already satisfied: orjson<4.0.0,>=3.9.14 in c:\\users\\kiit\\anaconda3\\lib\\site-packages (from langsmith<0.4,>=0.1.125->langchain-community) (3.10.16)\n",
      "Requirement already satisfied: requests-toolbelt<2.0.0,>=1.0.0 in c:\\users\\kiit\\anaconda3\\lib\\site-packages (from langsmith<0.4,>=0.1.125->langchain-community) (1.0.0)\n",
      "Requirement already satisfied: zstandard<0.24.0,>=0.23.0 in c:\\users\\kiit\\anaconda3\\lib\\site-packages (from langsmith<0.4,>=0.1.125->langchain-community) (0.23.0)\n",
      "Requirement already satisfied: python-dotenv>=0.21.0 in c:\\users\\kiit\\anaconda3\\lib\\site-packages (from pydantic-settings<3.0.0,>=2.4.0->langchain-community) (0.21.0)\n",
      "Requirement already satisfied: charset-normalizer<4,>=2 in c:\\users\\kiit\\anaconda3\\lib\\site-packages (from requests<3,>=2->langchain-community) (3.3.2)\n",
      "Requirement already satisfied: idna<4,>=2.5 in c:\\users\\kiit\\anaconda3\\lib\\site-packages (from requests<3,>=2->langchain-community) (3.7)\n",
      "Requirement already satisfied: urllib3<3,>=1.21.1 in c:\\users\\kiit\\anaconda3\\lib\\site-packages (from requests<3,>=2->langchain-community) (2.2.3)\n",
      "Requirement already satisfied: certifi>=2017.4.17 in c:\\users\\kiit\\anaconda3\\lib\\site-packages (from requests<3,>=2->langchain-community) (2025.1.31)\n",
      "Requirement already satisfied: greenlet!=0.4.17 in c:\\users\\kiit\\anaconda3\\lib\\site-packages (from SQLAlchemy<3,>=1.4->langchain-community) (3.0.1)\n",
      "Requirement already satisfied: anyio in c:\\users\\kiit\\anaconda3\\lib\\site-packages (from httpx<1,>=0.23.0->langsmith<0.4,>=0.1.125->langchain-community) (4.2.0)\n",
      "Requirement already satisfied: httpcore==1.* in c:\\users\\kiit\\anaconda3\\lib\\site-packages (from httpx<1,>=0.23.0->langsmith<0.4,>=0.1.125->langchain-community) (1.0.2)\n",
      "Requirement already satisfied: sniffio in c:\\users\\kiit\\anaconda3\\lib\\site-packages (from httpx<1,>=0.23.0->langsmith<0.4,>=0.1.125->langchain-community) (1.3.0)\n",
      "Requirement already satisfied: h11<0.15,>=0.13 in c:\\users\\kiit\\anaconda3\\lib\\site-packages (from httpcore==1.*->httpx<1,>=0.23.0->langsmith<0.4,>=0.1.125->langchain-community) (0.14.0)\n",
      "Requirement already satisfied: jsonpointer>=1.9 in c:\\users\\kiit\\anaconda3\\lib\\site-packages (from jsonpatch<2.0,>=1.33->langchain-core<1.0.0,>=0.3.56->langchain-community) (2.1)\n",
      "Requirement already satisfied: annotated-types>=0.4.0 in c:\\users\\kiit\\anaconda3\\lib\\site-packages (from pydantic<3.0.0,>=2.7.4->langchain<1.0.0,>=0.3.24->langchain-community) (0.6.0)\n",
      "Requirement already satisfied: pydantic-core==2.20.1 in c:\\users\\kiit\\anaconda3\\lib\\site-packages (from pydantic<3.0.0,>=2.7.4->langchain<1.0.0,>=0.3.24->langchain-community) (2.20.1)\n",
      "Requirement already satisfied: mypy-extensions>=0.3.0 in c:\\users\\kiit\\anaconda3\\lib\\site-packages (from typing-inspect<1,>=0.4.0->dataclasses-json<0.7,>=0.5.7->langchain-community) (1.0.0)\n"
     ]
    }
   ],
   "source": [
    "!pip install langchain-community"
   ]
  },
  {
   "cell_type": "markdown",
   "id": "f8a5455d-a871-46f7-81b6-3e55c6fa076f",
   "metadata": {},
   "source": [
    "# Enter open-ai  api key"
   ]
  },
  {
   "cell_type": "code",
   "execution_count": 11,
   "id": "215e5a85-182e-49e6-b6c0-3c62c4527c02",
   "metadata": {},
   "outputs": [
    {
     "name": "stdin",
     "output_type": "stream",
     "text": [
      "enter your api key here :  ········\n"
     ]
    }
   ],
   "source": [
    "from getpass import getpass\n",
    "OPENAPI_KEY=getpass(\"enter your api key here : \")"
   ]
  },
  {
   "cell_type": "markdown",
   "id": "9f1eed41-82a9-47ca-a39c-5f401492dbc8",
   "metadata": {},
   "source": [
    "# environment variables "
   ]
  },
  {
   "cell_type": "code",
   "execution_count": 20,
   "id": "2a71a8ae-7888-46c7-a68d-98ac459a99ee",
   "metadata": {},
   "outputs": [],
   "source": [
    "import os \n",
    "os.environ[\"OPENAI_API_KEY\"]=OPENAPI_KEY"
   ]
  },
  {
   "cell_type": "markdown",
   "id": "47eb9ac4-cd30-4470-801a-cf2ea7c7de30",
   "metadata": {},
   "source": [
    "# Load necessary Dependcies and Chatgpt LLM"
   ]
  },
  {
   "cell_type": "code",
   "execution_count": 23,
   "id": "143c1ff0-de20-4fe5-8372-d917d57ce84e",
   "metadata": {},
   "outputs": [],
   "source": [
    "from langchain_core.prompts import ChatPromptTemplate\n",
    "from langchain_openai import ChatOpenAI"
   ]
  },
  {
   "cell_type": "markdown",
   "id": "965d0a7e-da43-4b20-8912-e71e2f20a84c",
   "metadata": {},
   "source": [
    "# LLM MODELS"
   ]
  },
  {
   "cell_type": "code",
   "execution_count": 27,
   "id": "bc59b8e3-b2b1-483e-b0b2-a2fa86f414b1",
   "metadata": {},
   "outputs": [],
   "source": [
    "chatgpt=ChatOpenAI(model_name=\"gpt-4\",temperature=0.9)"
   ]
  },
  {
   "cell_type": "markdown",
   "id": "18168096-d356-4542-b1aa-444b1602ccce",
   "metadata": {},
   "source": [
    "## Access the product fact sheet data"
   ]
  },
  {
   "cell_type": "code",
   "execution_count": 30,
   "id": "f4d8d29c-0437-4a0c-b6f5-37c5ded22ce0",
   "metadata": {},
   "outputs": [],
   "source": [
    "fact_sheet_mobile=\"\"\"PRODUCT\n",
    "NAME\n",
    "Galaxy Z Fold4 5G Black\n",
    "Samsung\n",
    "PRODUCT OVERVIEW\n",
    "Stands out. Stands up. Unfolds.\n",
    "The Galaxy Z Fold4 does a lot in one hand with its 15.73 cm(6.2-inch) Cover Screen.\n",
    "Unfolded, the 19.21 cm(7.6-inch) Main Screen lets you really get into the zone.\n",
    "Pushed-back bezels and the Under Display Camera means there's more screen\n",
    "and no black dot getting between you and the breathtaking Infinity Flex Display.\n",
    "Do more than more with Multi View. Whether toggling between texts or catching up\n",
    "on emails, take full advantage of the expansive Main Screen with Multi View.\n",
    "PC11ike power thanks to Qualcomm Snapdragon 8+ Gen 1 processor in your pocket,\n",
    "transforms apps optimized with One IJI to give you menus and more in a glance\n",
    "New Taskbar for PC-1ike multitasking. Wipe out tasks in fewer taps. Add\n",
    "apps to the Taskbar for quick navigation and bouncing between windows when\n",
    "you're in the groove .4 And with App Pair, one tap launches up to three apps,\n",
    "all sharing one super-productive screen\n",
    "Our toughest Samsung Galaxy foldables ever. From the inside out,\n",
    "Galaxy Z Fold4 is made with materials that are not only stunning,\n",
    "but stand up to life's bumps and fumbles. The front and rear panels,\n",
    "made with exclusive Corning Gorilla Glass Victus+, are ready to resist\n",
    "sneaky scrapes and scratches. With our toughest aluminum frame made with\n",
    "Armor Aluminum, this is one durable smartphone.\n",
    "World's first water resistant foldable smartphones. Be adventurous, rain\n",
    "or shine. You don't have to sweat the forecast when you've got one of the\n",
    "world's first water-resistant foldable smartphones.\n",
    "\n",
    "product specs \n",
    "OS - Android 12.0\n",
    "RAM - 12 GB\n",
    "Product Dimensions -\n",
    "15.5 x 13 x 0.6 cm; 263 Grams\n",
    "Batteries - 2 Lithium Ion batteries required. (included)\n",
    "Item model number\n",
    "- SM-F936BZKDINU 5\n",
    "Wirelless communication technologies -\n",
    "Cellular\n",
    "Connectivity technologies\n",
    "- Bluetooth, Wi-Fi, YSB, NFC\n",
    "GPS - True\n",
    "Special features -\n",
    "Fast Charging Support, Dual SIM, Wireless Charging, Built-In GPS,\n",
    "Other display features - Wireless\n",
    "Device interface - primary - Touchscreen\n",
    "Resolution - 2176x1812\n",
    "Other camera features\n",
    "- Rear, Front\n",
    "Form factor\n",
    "- Foldable Screen\n",
    "Colour\n",
    "- Phantom Black\n",
    "Battery Power Rating - 4400\n",
    "Whats in the box - SIM Tray Ejector, USB Cable\n",
    "Manufacturer\n",
    "- Samsung India pvt Ltd\n",
    "Country of Origin - China\n",
    "Item Weight\n",
    "- 263 g\n",
    "Water Resistant\"\"\""
   ]
  },
  {
   "cell_type": "markdown",
   "id": "d09c7f28-3a51-40eb-a53f-13c6250d64b8",
   "metadata": {},
   "source": [
    "# Create prompt template for the first advert"
   ]
  },
  {
   "cell_type": "code",
   "execution_count": 35,
   "id": "15fcf6d6-a84c-492a-a651-90b814fe4753",
   "metadata": {},
   "outputs": [],
   "source": [
    "prompt_txt=\"\"\"\n",
    "Act as a marketing manager\n",
    "Your task is to help marketing team create a description for a retail website advert of a product based on technical fact sheet \n",
    "specification  for a mobile snartphone\n",
    "write a brief product description \n",
    "Technical specification :{fact_sheet_mobile}\n",
    "\"\"\"\n",
    "chat_template =ChatPromptTemplate.from_template(prompt_txt) \n"
   ]
  },
  {
   "cell_type": "markdown",
   "id": "ca0ed054-928f-486a-a8cb-fe1b1654775c",
   "metadata": {},
   "source": [
    "# use LCEL LLM chain "
   ]
  },
  {
   "cell_type": "code",
   "execution_count": 38,
   "id": "162401bb-ad36-4a09-bab2-ef51052ef18f",
   "metadata": {},
   "outputs": [
    {
     "name": "stdout",
     "output_type": "stream",
     "text": [
      "- Yes\n",
      "\n",
      "Presenting the Samsung Galaxy Z Fold4 5G in sleek Phantom Black - a smartphone that truly stands out in a crowd. It's the ideal choice for those who demand more from their device, offering a seamless, foldable design that fits comfortably in one hand and unfolds into an immersive 7.6-inch Main Screen. With slim pushed-back bezels and an Under Display Camera, your view will never be compromised by unsightly interruptions. \n",
      "\n",
      "The Galaxy Z Fold4 harnesses the power of a PC, equipped with a Qualcomm Snapdragon 8+ Gen 1 processor that guarantees blazing fast performance. Its innovative Multi View functionality allows you to multitask with ease, featuring a new Taskbar for PC-like navigation and App Pair which launches up to three apps simultaneously. \n",
      "\n",
      "But this smartphone is more than just good looks and performance - it's built to last. Crafted with Corning Gorilla Glass Victus+ and an Armor Aluminum frame, the Galaxy Z Fold4 can withstand the bumps and scratches of everyday life. This is also one of the world's first water-resistant foldable smartphones, so you can embrace your adventures without worrying about the weather.\n",
      "\n",
      "Running on Android 12.0 with 12 GB RAM, the Galaxy Z Fold4 ensures seamless functionality, while its 4400 Battery Power Rating guarantees long-lasting power. With wireless charging capabilities and fast charging support, you'll never be left without battery life. Not to mention, it comes with connectivity technologies including Bluetooth, Wi-Fi, USB, NFC, and inbuilt GPS. \n",
      "\n",
      "Box includes a SIM Tray Ejector and a USB Cable. The device weighs just 263 grams and measures 15.5 x 13 x 0.6 cm, providing powerful specs in a compact form. Available now from Samsung India Pvt Ltd, manufactured in China. Unfold your world with Galaxy Z Fold4 5G.\n"
     ]
    }
   ],
   "source": [
    "chain =(chat_template| chatgpt)\n",
    "response=chain.invoke({'fact_sheet_mobile':fact_sheet_mobile}) \n",
    "print(response.content)"
   ]
  },
  {
   "cell_type": "markdown",
   "id": "27952077-cdd0-4bba-a124-e01c3577fa8b",
   "metadata": {},
   "source": [
    "# Nicely fabricating the answer"
   ]
  },
  {
   "cell_type": "code",
   "execution_count": 40,
   "id": "40f62ae1-756d-4306-823a-773eb69feaf6",
   "metadata": {},
   "outputs": [
    {
     "data": {
      "text/markdown": [
       "- Yes\n",
       "\n",
       "Presenting the Samsung Galaxy Z Fold4 5G in sleek Phantom Black - a smartphone that truly stands out in a crowd. It's the ideal choice for those who demand more from their device, offering a seamless, foldable design that fits comfortably in one hand and unfolds into an immersive 7.6-inch Main Screen. With slim pushed-back bezels and an Under Display Camera, your view will never be compromised by unsightly interruptions. \n",
       "\n",
       "The Galaxy Z Fold4 harnesses the power of a PC, equipped with a Qualcomm Snapdragon 8+ Gen 1 processor that guarantees blazing fast performance. Its innovative Multi View functionality allows you to multitask with ease, featuring a new Taskbar for PC-like navigation and App Pair which launches up to three apps simultaneously. \n",
       "\n",
       "But this smartphone is more than just good looks and performance - it's built to last. Crafted with Corning Gorilla Glass Victus+ and an Armor Aluminum frame, the Galaxy Z Fold4 can withstand the bumps and scratches of everyday life. This is also one of the world's first water-resistant foldable smartphones, so you can embrace your adventures without worrying about the weather.\n",
       "\n",
       "Running on Android 12.0 with 12 GB RAM, the Galaxy Z Fold4 ensures seamless functionality, while its 4400 Battery Power Rating guarantees long-lasting power. With wireless charging capabilities and fast charging support, you'll never be left without battery life. Not to mention, it comes with connectivity technologies including Bluetooth, Wi-Fi, USB, NFC, and inbuilt GPS. \n",
       "\n",
       "Box includes a SIM Tray Ejector and a USB Cable. The device weighs just 263 grams and measures 15.5 x 13 x 0.6 cm, providing powerful specs in a compact form. Available now from Samsung India Pvt Ltd, manufactured in China. Unfold your world with Galaxy Z Fold4 5G."
      ],
      "text/plain": [
       "<IPython.core.display.Markdown object>"
      ]
     },
     "metadata": {},
     "output_type": "display_data"
    }
   ],
   "source": [
    "from IPython.display import display,Markdown \n",
    "display(Markdown(response.content))"
   ]
  },
  {
   "cell_type": "markdown",
   "id": "8d57d8b0-3f76-4db8-89d9-8be86bd126de",
   "metadata": {},
   "source": [
    "# Create prompt template as given by user"
   ]
  },
  {
   "cell_type": "code",
   "execution_count": 44,
   "id": "3351e301-d8ce-4e47-8941-505951fe36a1",
   "metadata": {},
   "outputs": [
    {
     "name": "stdout",
     "output_type": "stream",
     "text": [
      "Product Name: Samsung Galaxy Z Fold4 5G Black \n",
      "\n",
      "Description: The Galaxy Z Fold4 5G Black stands out as it unfolds to offer a larger viewing experience with its 7.6-inch Infinity Flex Display. From checking emails to toggling between apps, make the most of your screen with Multi View. Moreover, it's powered by Snapdragon 8+ Gen 1 processor for PC-like power in your pocket. It also epitomizes durability with its Corning Gorilla Glass Victus+ and Armor Aluminum frame. Not to mention, it's one of the world's first water-resistant foldable smartphones. \n",
      "\n",
      "Product Specifications:\n",
      "\n",
      "| Feature | Specification |\n",
      "|---------|---------------|\n",
      "| Display | 7.6-inch Infinity Flex Display (Foldable) |\n",
      "| Processing Power | Qualcomm Snapdragon 8+ Gen 1 |\n",
      "| RAM | 12 GB |\n",
      "| Camera | Rear, Front |\n",
      "| Battery Life | 4400mAh | \n",
      "\n",
      "Please note, actual battery life may vary depending on network environment, usage patterns and other factors.\n"
     ]
    }
   ],
   "source": [
    "prompt_txt=\"\"\"\n",
    "Acts as a marketing manager .Your task is to help a marketing team to create a description for a retail website advert a product based upon\n",
    "technical factsheetspecification for a mobile smartphone \n",
    "*\n",
    "description should follow this format:\n",
    "Product Name: <Name of the smartphone>\n",
    "*\n",
    "Description: <Brief Overview of the features>\n",
    "*\n",
    "Product Specifications:\n",
    "< Table with key product feature specifications>\n",
    "*\n",
    "The description should focus on the most important features\n",
    "a customer might look for in a phone including the foldable display screen\n",
    "*\n",
    "After the description, the table should have the\n",
    "key specifications of the product. It should have two columns.\n",
    "The first column should have • Feature'\n",
    "and the second column should have 'Specification'\n",
    "and try to put exact numeric values for features if they exist.\n",
    "processing power,\n",
    "RAM,\n",
    "camera and battery life.\n",
    "Only put these features in the table - foldable display screen, processing power,\n",
    "RAM,\n",
    "camera and battery life\n",
    "Technical specification :{fact_sheet_mobile}\n",
    "\"\"\"\n",
    "chat_template =ChatPromptTemplate.from_template(prompt_txt) \n",
    "chain =(chat_template| chatgpt)\n",
    "response=chain.invoke({'fact_sheet_mobile':fact_sheet_mobile}) \n",
    "print(response.content)"
   ]
  },
  {
   "cell_type": "code",
   "execution_count": 46,
   "id": "b1604e02-6d87-43ad-9622-8500bba18473",
   "metadata": {},
   "outputs": [
    {
     "data": {
      "text/markdown": [
       "Product Name: Samsung Galaxy Z Fold4 5G Black \n",
       "\n",
       "Description: The Galaxy Z Fold4 5G Black stands out as it unfolds to offer a larger viewing experience with its 7.6-inch Infinity Flex Display. From checking emails to toggling between apps, make the most of your screen with Multi View. Moreover, it's powered by Snapdragon 8+ Gen 1 processor for PC-like power in your pocket. It also epitomizes durability with its Corning Gorilla Glass Victus+ and Armor Aluminum frame. Not to mention, it's one of the world's first water-resistant foldable smartphones. \n",
       "\n",
       "Product Specifications:\n",
       "\n",
       "| Feature | Specification |\n",
       "|---------|---------------|\n",
       "| Display | 7.6-inch Infinity Flex Display (Foldable) |\n",
       "| Processing Power | Qualcomm Snapdragon 8+ Gen 1 |\n",
       "| RAM | 12 GB |\n",
       "| Camera | Rear, Front |\n",
       "| Battery Life | 4400mAh | \n",
       "\n",
       "Please note, actual battery life may vary depending on network environment, usage patterns and other factors."
      ],
      "text/plain": [
       "<IPython.core.display.Markdown object>"
      ]
     },
     "metadata": {},
     "output_type": "display_data"
    }
   ],
   "source": [
    "from IPython.display import display,Markdown \n",
    "display(Markdown(response.content))"
   ]
  },
  {
   "cell_type": "markdown",
   "id": "f5b527a4-ee50-4f56-aee7-6e3b5174d0d5",
   "metadata": {},
   "source": [
    "# custom product descrption focusing on specific aspects like display and camera in less than 60 words"
   ]
  },
  {
   "cell_type": "code",
   "execution_count": 49,
   "id": "66ded7e3-de18-4476-8f59-f773b86de823",
   "metadata": {},
   "outputs": [],
   "source": [
    "#create  prmpt template "
   ]
  },
  {
   "cell_type": "code",
   "execution_count": 57,
   "id": "75799d17-58b4-4e67-a761-ca0618f854de",
   "metadata": {},
   "outputs": [
    {
     "data": {
      "text/markdown": [
       "Get ready to unfold the future with the🔥Galaxy Z Fold4 5G Black🔥! Revel in the 7.6-inch Infinity Flex Display, snap breathtaking shots with front and rear cameras, and multitask like a pro with the Qualcomm Snapdragon 8+ Gen 1 processor🚀. Plus, it's our toughest🛡️, water-resistant foldable phone ever! 🌊📱"
      ],
      "text/plain": [
       "<IPython.core.display.Markdown object>"
      ]
     },
     "metadata": {},
     "output_type": "display_data"
    }
   ],
   "source": [
    "prompt_txt=\"\"\"\n",
    "Acts as a marketing manager .Your task is to help a marketing team to create a description for a retail website advert a product based upon\n",
    "technical factsheetspecification for a mobile smartphone \n",
    "write a catchy product description with some emoji which uses atmost 60 words and focuses on the most important think about smartphone which \n",
    "might matters to user like diplay , camera \n",
    "Technical specification :{fact_sheet_mobile}\n",
    "\n",
    "\"\"\"\n",
    "chat_template =ChatPromptTemplate.from_template(prompt_txt) \n",
    "chain =(chat_template| chatgpt)\n",
    "response=chain.invoke({'fact_sheet_mobile':fact_sheet_mobile}) \n",
    "display(Markdown(response.content))"
   ]
  }
 ],
 "metadata": {
  "kernelspec": {
   "display_name": "Python [conda env:base] *",
   "language": "python",
   "name": "conda-base-py"
  },
  "language_info": {
   "codemirror_mode": {
    "name": "ipython",
    "version": 3
   },
   "file_extension": ".py",
   "mimetype": "text/x-python",
   "name": "python",
   "nbconvert_exporter": "python",
   "pygments_lexer": "ipython3",
   "version": "3.12.7"
  }
 },
 "nbformat": 4,
 "nbformat_minor": 5
}
